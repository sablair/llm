{
 "cells": [
  {
   "cell_type": "code",
   "execution_count": 10,
   "metadata": {},
   "outputs": [],
   "source": [
    "import os\n",
    "from dotenv import load_dotenv\n",
    "\n",
    "load_dotenv()\n",
    "\n",
    "OPENAI_API_KEY = os.getenv(\"OPENAI_API_KEY\")\n",
    "MODEL = \"gpt-3.5-turbo\"\n",
    "# MODEL = \"llama2\"\n",
    "\n"
   ]
  },
  {
   "cell_type": "code",
   "execution_count": 11,
   "metadata": {},
   "outputs": [],
   "source": [
    "from langchain_openai.chat_models import ChatOpenAI\n",
    "from langchain_openai.embeddings import OpenAIEmbeddings\n",
    "from langchain_community.llms import Ollama\n",
    "from langchain_community.embeddings import OllamaEmbeddings\n",
    "\n",
    "if MODEL.startswith(\"gpt\"):\n",
    "  model = ChatOpenAI(\n",
    "    model=MODEL,\n",
    "    api_key=OPENAI_API_KEY\n",
    "  )\n",
    "  embeddings = OpenAIEmbeddings()\n",
    "else:\n",
    "  model = Ollama(\n",
    "    model=MODEL\n",
    "  )\n",
    "  embeddings = OllamaEmbeddings()"
   ]
  },
  {
   "cell_type": "code",
   "execution_count": 12,
   "metadata": {},
   "outputs": [
    {
     "data": {
      "text/plain": [
       "[Document(page_content=\"SeanA.Blair+(65)8511-8496|sablair@gmail.com|LinkedIn\\nPROFILEExperiencedSoftwareEngineerwithexpertiseindevelopinginnovativesolutionsandcontributingtothesuccessfuldeploymentofproducts.Skilledincollaboratingwithexternalpartnersandengagingwiththedevelopercommunitytoenhanceandscaleprojects.Possessestechnicalproficiencyinvarioustechnologies,includingReactJS,ReactNative,C#,HackLang,.NETCore,Postgres,Node.JS,ASP.NETMVC,WindowsForms,BorlandDelphiandMicrosoftSQLServer.\\nKEYSKILLS1.Collaboration2.PartnerEngagement3.TrainingandDevelopment4.ProblemSolving5.CommunicationandReporting\\nPROFESSIONALEXPERIENCE\\nMeta,SingaporeJun2017-Jun2023PartnerEngineer\\nInmyroleasaPartnerEngineer,IworkedwithMeta'sstrategicpartnerstointegrateMeta'sdeveloperproductsintothoseofthepartner.AsIwasgenerallythebridgebetweenourpartnersandourproductteams,itwasimportantthatIwasabletounderstandthechallengesthepartnerwasfacingandhowourproductcouldmeetthisneed.Inthecasewheretherewasagap,ifpossibleIwouldseektoaddressthisgapbyengineeringasolutionorproposeasolutiontotheproductteamtodeliver.AstheproductsIsupportedfoundmarketfit,ItransitionedtonewproductswhichwidenedmytechnicalexperiencestoincludeAugmentedReality,MobileDevelopmentandeven3DGaming.\\nInthisroleI:\\n●GavemultiplepresentationsonMetaSparkARinAPACtohundredsofdevelopers\\n●ServedastheprimarypointofcontactforpartnerswhosoughttouseFacebookStorieswithattribution.Thisincludedcreatingdocumentationandcreatingsampleapplicationsandcodesnippets.\\n●WorkedwithnotablebrandstofindwaysandcreateprototypesastohowAugmentedRealityandStoriescangivetheirproductsmorevisibility\\n●IndependentlyundertookanddeliveredananalysisonHorizonWorldsproductdocumentationagainstcompetitorswhichresultedintheproductteamallocatingresourcestoaddressthisgap.\\n●Workedasafull-stackengineertodeliveraversionofMetaHorizonWorlds(avirtualrealitygame)thatwouldrunonbrowsers\\n●WorkedasagamingengineertodevelopanintegrateddevelopmentenvironmentthatwouldallowdeveloperstobuildexperiencesforMetaHorizonWorldsontheirdesktops.\\nTechnologiesused:Hacklang,ReactJS,ReactNative,Swift,Android,C#,Unity,SQL\\nHumanLongevityPte,SingaporeJan2016-May2017SoftwareEngineer\\nAsafullstackdeveloper,IworkedontheHLIKnowledgebase(PatentUSPCT/US2016/061446)portal.\\n●DeliveredfeaturesusingReactJS,NodeJSandPostgresql\\n●DevelopedMicroservicesusingC#and.NETcoretodecreasecouplingbetweentheportalandCPUintensiveprocessesmeanttoprotectuserprivacy.\", metadata={'source': 'Blair CV.pdf', 'page': 0}),\n",
       " Document(page_content=\"Technologiesused:AngularJS,ReactJS,C#,Node.JS,Postgresql.\\nCostOpticsPte,SingaporeNov2014-Dec2015Senior.NETDeveloper\\nWorkedprimarilyasabackenddeveloperonCostOptics'sGlassworksandMarketplaceSaaSproducts.TheseproductsservedtoimproveexpensemanagementforinstanceinthecaseoftheissuanceofBloombergterminalstoemployees.TheendgoalofmyrolewastotransitionthissolutionfromMicrosoftAzuretoon-premises.\\n●Conducteddetailedreviewsofspecifications\\n●Generatedtasksbasedonthespecificationsoutlined\\n●Includedrequirementsforanddevelopedteamadoptionofunittesting\\nTechnologiesused:C#,ASP.NETMVC,MicrosoftSQLServer,KnockoutJS.\\nXeroxBPS,JamaicaJun2008-Oct2014SeniorSystemsDevelopmentSpecialist\\nResponsibleforthecreationandmaintenanceofvariousdataprocessingworkflowsusedintheprocessingofhealthclaimsforUSbasedHealthInsuranceproviders.Createddesktopsystemsandwebapplicationstoassistthemanagementteamallocatehumanresourcesandunderstandthestatusandqualityoftheworkbeingprocessed.\\n●Createandmaintaindataprocessingworkflows\\n●Respondtoemergencyincidentticketsforproductionrelatedissues\\n●Plan,design,developandtestdataentrysoftwaresystemsandapplicationsforsoftwareenhancements\\n●DevelopandinstallprogramstosupportgeneralbusinessapplicationsrunningonPCs\\n●Designwebapplicationsforthepurposeofdataprocessingandgeneratingbusinessreports\\n●Reliefteamleaderduties\\nTechnologiesused:C#,BorlandDelphi,ASP.NETMVC,MicrosoftSQLServer,WinForms.\\nCERTIFICATIONS\\n●ProfessionalScrumMasterI\\n●MicrosoftCertifiedSolutionsAssociate:WebApplications(MCSD).\\nEDUCATION\\n●BachelorofScience,ComputerScienceEngineering.UniversidadDeCamagüey,Cuba.Sep1999-Jul2004\\nLANGUAGES\\n●English\\n●Spanish\", metadata={'source': 'Blair CV.pdf', 'page': 1})]"
      ]
     },
     "execution_count": 12,
     "metadata": {},
     "output_type": "execute_result"
    }
   ],
   "source": [
    "from langchain_community.document_loaders import PyPDFLoader\n",
    "\n",
    "loader = PyPDFLoader(\"PUT_YOUR_PDF.pdf\")\n",
    "pages = loader.load_and_split()\n",
    "pages"
   ]
  },
  {
   "cell_type": "code",
   "execution_count": 13,
   "metadata": {},
   "outputs": [],
   "source": [
    "from langchain.prompts import PromptTemplate\n",
    "\n",
    "template = \"\"\"\n",
    "Answer the question as truthfully as possible using the provided context. If you don't know the answer,\n",
    "just say that you don't know, don't try to make up an answer.\n",
    "\n",
    "Context: {context}\n",
    "\n",
    "Question: {question}\n",
    "\"\"\"\n",
    "\n",
    "prompt = PromptTemplate.from_template(template)\n"
   ]
  },
  {
   "cell_type": "code",
   "execution_count": 15,
   "metadata": {},
   "outputs": [
    {
     "data": {
      "text/plain": [
       "{'title': 'PromptInput',\n",
       " 'type': 'object',\n",
       " 'properties': {'context': {'title': 'Context', 'type': 'string'},\n",
       "  'question': {'title': 'Question', 'type': 'string'}}}"
      ]
     },
     "execution_count": 15,
     "metadata": {},
     "output_type": "execute_result"
    }
   ],
   "source": [
    "from langchain_core.output_parsers import StrOutputParser\n",
    "\n",
    "parser = StrOutputParser()\n",
    "chain = prompt | model | parser\n",
    "chain.input_schema.schema() # helpful for debugging to tell me what the chain needs to work\n"
   ]
  },
  {
   "cell_type": "code",
   "execution_count": 16,
   "metadata": {},
   "outputs": [
    {
     "name": "stderr",
     "output_type": "stream",
     "text": [
      "python(75598) MallocStackLogging: can't turn off malloc stack logging because it was not enabled.\n"
     ]
    },
    {
     "data": {
      "text/plain": [
       "'The leader of the autobots is a red semi truck.'"
      ]
     },
     "execution_count": 16,
     "metadata": {},
     "output_type": "execute_result"
    }
   ],
   "source": [
    "chain.invoke({\n",
    "  \"context\": \"Optimus Prime is a red semi truck and leader of the autobots.\",\n",
    "  \"question\": \"What kind of vehicle is the leader of the autobots?\"\n",
    "})"
   ]
  },
  {
   "cell_type": "code",
   "execution_count": 17,
   "metadata": {},
   "outputs": [],
   "source": [
    "from langchain_community.vectorstores import DocArrayInMemorySearch\n",
    "\n",
    "vectorstore = DocArrayInMemorySearch.from_documents(pages, embedding=embeddings)"
   ]
  },
  {
   "cell_type": "code",
   "execution_count": 18,
   "metadata": {},
   "outputs": [
    {
     "data": {
      "text/plain": [
       "[Document(page_content=\"SeanA.Blair+(65)8511-8496|sablair@gmail.com|LinkedIn\\nPROFILEExperiencedSoftwareEngineerwithexpertiseindevelopinginnovativesolutionsandcontributingtothesuccessfuldeploymentofproducts.Skilledincollaboratingwithexternalpartnersandengagingwiththedevelopercommunitytoenhanceandscaleprojects.Possessestechnicalproficiencyinvarioustechnologies,includingReactJS,ReactNative,C#,HackLang,.NETCore,Postgres,Node.JS,ASP.NETMVC,WindowsForms,BorlandDelphiandMicrosoftSQLServer.\\nKEYSKILLS1.Collaboration2.PartnerEngagement3.TrainingandDevelopment4.ProblemSolving5.CommunicationandReporting\\nPROFESSIONALEXPERIENCE\\nMeta,SingaporeJun2017-Jun2023PartnerEngineer\\nInmyroleasaPartnerEngineer,IworkedwithMeta'sstrategicpartnerstointegrateMeta'sdeveloperproductsintothoseofthepartner.AsIwasgenerallythebridgebetweenourpartnersandourproductteams,itwasimportantthatIwasabletounderstandthechallengesthepartnerwasfacingandhowourproductcouldmeetthisneed.Inthecasewheretherewasagap,ifpossibleIwouldseektoaddressthisgapbyengineeringasolutionorproposeasolutiontotheproductteamtodeliver.AstheproductsIsupportedfoundmarketfit,ItransitionedtonewproductswhichwidenedmytechnicalexperiencestoincludeAugmentedReality,MobileDevelopmentandeven3DGaming.\\nInthisroleI:\\n●GavemultiplepresentationsonMetaSparkARinAPACtohundredsofdevelopers\\n●ServedastheprimarypointofcontactforpartnerswhosoughttouseFacebookStorieswithattribution.Thisincludedcreatingdocumentationandcreatingsampleapplicationsandcodesnippets.\\n●WorkedwithnotablebrandstofindwaysandcreateprototypesastohowAugmentedRealityandStoriescangivetheirproductsmorevisibility\\n●IndependentlyundertookanddeliveredananalysisonHorizonWorldsproductdocumentationagainstcompetitorswhichresultedintheproductteamallocatingresourcestoaddressthisgap.\\n●Workedasafull-stackengineertodeliveraversionofMetaHorizonWorlds(avirtualrealitygame)thatwouldrunonbrowsers\\n●WorkedasagamingengineertodevelopanintegrateddevelopmentenvironmentthatwouldallowdeveloperstobuildexperiencesforMetaHorizonWorldsontheirdesktops.\\nTechnologiesused:Hacklang,ReactJS,ReactNative,Swift,Android,C#,Unity,SQL\\nHumanLongevityPte,SingaporeJan2016-May2017SoftwareEngineer\\nAsafullstackdeveloper,IworkedontheHLIKnowledgebase(PatentUSPCT/US2016/061446)portal.\\n●DeliveredfeaturesusingReactJS,NodeJSandPostgresql\\n●DevelopedMicroservicesusingC#and.NETcoretodecreasecouplingbetweentheportalandCPUintensiveprocessesmeanttoprotectuserprivacy.\", metadata={'source': 'Blair CV.pdf', 'page': 0}),\n",
       " Document(page_content=\"Technologiesused:AngularJS,ReactJS,C#,Node.JS,Postgresql.\\nCostOpticsPte,SingaporeNov2014-Dec2015Senior.NETDeveloper\\nWorkedprimarilyasabackenddeveloperonCostOptics'sGlassworksandMarketplaceSaaSproducts.TheseproductsservedtoimproveexpensemanagementforinstanceinthecaseoftheissuanceofBloombergterminalstoemployees.TheendgoalofmyrolewastotransitionthissolutionfromMicrosoftAzuretoon-premises.\\n●Conducteddetailedreviewsofspecifications\\n●Generatedtasksbasedonthespecificationsoutlined\\n●Includedrequirementsforanddevelopedteamadoptionofunittesting\\nTechnologiesused:C#,ASP.NETMVC,MicrosoftSQLServer,KnockoutJS.\\nXeroxBPS,JamaicaJun2008-Oct2014SeniorSystemsDevelopmentSpecialist\\nResponsibleforthecreationandmaintenanceofvariousdataprocessingworkflowsusedintheprocessingofhealthclaimsforUSbasedHealthInsuranceproviders.Createddesktopsystemsandwebapplicationstoassistthemanagementteamallocatehumanresourcesandunderstandthestatusandqualityoftheworkbeingprocessed.\\n●Createandmaintaindataprocessingworkflows\\n●Respondtoemergencyincidentticketsforproductionrelatedissues\\n●Plan,design,developandtestdataentrysoftwaresystemsandapplicationsforsoftwareenhancements\\n●DevelopandinstallprogramstosupportgeneralbusinessapplicationsrunningonPCs\\n●Designwebapplicationsforthepurposeofdataprocessingandgeneratingbusinessreports\\n●Reliefteamleaderduties\\nTechnologiesused:C#,BorlandDelphi,ASP.NETMVC,MicrosoftSQLServer,WinForms.\\nCERTIFICATIONS\\n●ProfessionalScrumMasterI\\n●MicrosoftCertifiedSolutionsAssociate:WebApplications(MCSD).\\nEDUCATION\\n●BachelorofScience,ComputerScienceEngineering.UniversidadDeCamagüey,Cuba.Sep1999-Jul2004\\nLANGUAGES\\n●English\\n●Spanish\", metadata={'source': 'Blair CV.pdf', 'page': 1})]"
      ]
     },
     "execution_count": 18,
     "metadata": {},
     "output_type": "execute_result"
    }
   ],
   "source": [
    "retriever = vectorstore.as_retriever()\n",
    "retriever.invoke(\"Partner Engineer\")"
   ]
  },
  {
   "cell_type": "code",
   "execution_count": 19,
   "metadata": {},
   "outputs": [
    {
     "data": {
      "text/plain": [
       "'Yes, based on the provided context, Sean A. Blair has experience working in Augmented Reality. This can be inferred from his role as a Partner Engineer at Meta where he worked with notable brands to find ways and create prototypes on how Augmented Reality and Stories can give their products more visibility. Additionally, he gave multiple presentations on Meta Spark AR in APAC to hundreds of developers.'"
      ]
     },
     "execution_count": 19,
     "metadata": {},
     "output_type": "execute_result"
    }
   ],
   "source": [
    "from operator import itemgetter\n",
    "\n",
    "chain = (\n",
    "  {\"context\": itemgetter(\"question\") | retriever, \"question\": itemgetter(\"question\")}\n",
    "  | prompt\n",
    "  | model\n",
    "  | parser\n",
    ")\n",
    "\n",
    "chain.invoke({\"question\": \"Does he have experience working in Augmented Reality?\"})"
   ]
  },
  {
   "cell_type": "code",
   "execution_count": 20,
   "metadata": {},
   "outputs": [
    {
     "name": "stdout",
     "output_type": "stream",
     "text": [
      "Yes, based on the provided context, Sean A. Blair has experience working in Augmented Reality. He worked with notable brands to find ways and create prototypes on how Augmented Reality and Stories can give their products more visibility.\n",
      "Sean A. Blair has been working at Meta from June 2017 to June 2023, which is a total of 6 years.\n",
      "Yes, based on the provided context, Sean A. Blair has experience working with mobile technologies such as React Native, Swift, and Android in his role as a Partner Engineer at Meta.\n",
      "I don't know.\n"
     ]
    }
   ],
   "source": [
    "questions = [\n",
    "  \"Does he have experience working in Augmented Reality?\",\n",
    "  \"How long has he been working at Meta?\",\n",
    "  \"Does he have any experience working with mobile?\",\n",
    "  \"What was his compensation while working at Meta?\",\n",
    "]\n",
    "\n",
    "\n",
    "for question in questions:\n",
    "  print(f\"Question: {question}\")\n",
    "  print(f\"Answer: {chain.invoke({'question': question})}\")\n",
    "  print()"
   ]
  },
  {
   "cell_type": "code",
   "execution_count": 21,
   "metadata": {},
   "outputs": [
    {
     "name": "stdout",
     "output_type": "stream",
     "text": [
      "Sean A. Blair worked at Meta as a Partner Engineer from June 2017 to June 2023. In this role, he collaborated with strategic partners to integrate Meta's developer products, presented MetaSparkAR to developers in APAC, served as a primary contact for partners using Facebook Stories, worked with brands on Augmented Reality prototypes, conducted analysis on product documentation, developed Meta Horizon Worlds, and created a development environment for developers. Technologies used in this role included Hacklang, ReactJS, React Native, Swift, Android, C#, Unity, and SQL."
     ]
    }
   ],
   "source": [
    "for s in chain.stream({\"question\": \"Summarize his role at Meta\"}):\n",
    "  print(s, end=\"\", flush=True)"
   ]
  },
  {
   "cell_type": "code",
   "execution_count": 22,
   "metadata": {},
   "outputs": [
    {
     "data": {
      "text/plain": [
       "['Yes, based on the provided context, Sean A. Blair has experience working in Augmented Reality. He mentioned working with notable brands to find ways and create prototypes involving Augmented Reality and Stories to give their products more visibility during his time as a Partner Engineer at Meta.',\n",
       " 'Sean A. Blair has been working at Meta from June 2017 to June 2023, which is a total of 6 years.',\n",
       " 'Yes, based on the provided context, Sean A. Blair does have experience working with mobile. In his role at Meta, he worked on Mobile Development and gave multiple presentations on MetaSparkAR in the APAC region. Additionally, he has expertise in technologies such as React Native, Swift, and Android, which are commonly used for mobile development.',\n",
       " \"I don't know the answer as the provided context does not mention Sean A. Blair's compensation while working at Meta.\"]"
      ]
     },
     "execution_count": 22,
     "metadata": {},
     "output_type": "execute_result"
    }
   ],
   "source": [
    "chain.batch([{\"question\": q} for q in questions])"
   ]
  },
  {
   "cell_type": "code",
   "execution_count": null,
   "metadata": {},
   "outputs": [],
   "source": []
  }
 ],
 "metadata": {
  "kernelspec": {
   "display_name": ".venv",
   "language": "python",
   "name": "python3"
  },
  "language_info": {
   "codemirror_mode": {
    "name": "ipython",
    "version": 3
   },
   "file_extension": ".py",
   "mimetype": "text/x-python",
   "name": "python",
   "nbconvert_exporter": "python",
   "pygments_lexer": "ipython3",
   "version": "3.9.13"
  }
 },
 "nbformat": 4,
 "nbformat_minor": 2
}
